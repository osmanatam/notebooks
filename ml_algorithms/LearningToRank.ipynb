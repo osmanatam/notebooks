{
 "cells": [
  {
   "cell_type": "markdown",
   "metadata": {},
   "source": [
    "# Learning To Rank\n",
    "\n",
    "* [From RankNet to LambdaRank to LambdaMART: An Overview](https://www.microsoft.com/en-us/research/wp-content/uploads/2016/02/MSR-TR-2010-82.pdf)\n",
    "* [Learning to Rank Explained (with Code)](https://mlexplained.com/2019/05/27/learning-to-rank-explained-with-code/)\n",
    "* [Learning to Rank with Nonsmooth Cost Functions](https://pdfs.semanticscholar.org/fc9a/e09f9ced555558fdf1e997c0a5411fb51f15.pdf)\n",
    "\n",
    "Dataset:\n",
    "* [LETOR: Learning to Rank for Information Retrieval](https://www.microsoft.com/en-us/research/project/letor-learning-rank-information-retrieval/#!letor-4-0) (MQ2008)"
   ]
  },
  {
   "cell_type": "code",
   "execution_count": 1,
   "metadata": {},
   "outputs": [],
   "source": [
    "%matplotlib inline\n",
    "\n",
    "import sys\n",
    "import io\n",
    "import urllib\n",
    "import zipfile\n",
    "from pathlib import Path\n",
    "from typing import Tuple, Dict, Callable\n",
    "\n",
    "import tqdm\n",
    "import numpy as np\n",
    "import pandas as pd\n",
    "\n",
    "import torch\n",
    "from torch import nn\n",
    "\n",
    "import matplotlib\n",
    "import matplotlib.pyplot as plt\n",
    "from matplotlib import cm\n",
    "import seaborn as sns\n",
    "\n",
    "from sklearn.datasets import load_svmlight_file"
   ]
  },
  {
   "cell_type": "markdown",
   "metadata": {},
   "source": [
    "\"The larger the relevance label, the more relevant the query-document pair\""
   ]
  },
  {
   "cell_type": "code",
   "execution_count": 2,
   "metadata": {},
   "outputs": [
    {
     "name": "stdout",
     "output_type": "stream",
     "text": [
      "Training Set:\n",
      "x_train:  float32 (9630, 46)\n",
      "y_train:  float32 (9630,)\n",
      "q_train:  int64 (9630,)\n",
      "q_train_map:  471\n",
      "q_train_map_nonzero:  339\n",
      "\n",
      "Validation Set:\n",
      "x_val:  float32 (2707, 46)\n",
      "y_val:  float32 (2707,)\n",
      "q_val:  int64 (2707,)\n",
      "q_val_map:  157\n",
      "q_val_map_nonzero:  120\n",
      "\n",
      "Test Set:\n",
      "x_test:  float32 (2874, 46)\n",
      "y_test:  float32 (2874,)\n",
      "q_test:  int64 (2874,)\n",
      "q_test_map:  156\n",
      "q_test_map_nonzero:  105\n"
     ]
    }
   ],
   "source": [
    "def get_data(file_path: Path):\n",
    "    x, y, q = load_svmlight_file(\n",
    "        str(file_path.resolve()), query_id=True, \n",
    "        n_features=46, zero_based=False, dtype=np.float32)\n",
    "    y = y.astype(np.float32)\n",
    "    unique_q = np.unique(q)\n",
    "    q_map = {qid: np.argwhere(qid==q).flatten()\n",
    "             for qid in unique_q}\n",
    "    q_map_nonzero = {\n",
    "        k:v for k, v in q_map.items() if any(y[v]>0)}\n",
    "    return x.todense(), y, q, q_map, q_map_nonzero\n",
    "\n",
    "\n",
    "# filepath = Path('/home/peter/Downloads/datasets/MSLR-WEB10K/Fold1/vali.txt')\n",
    "data_dir = Path('/home/peter/Downloads/datasets/MQ2008/Fold1/')\n",
    "\n",
    "x_train, y_train, q_train, q_train_map, q_train_map_nonzero = get_data(data_dir / 'train.txt')\n",
    "print('Training Set:')\n",
    "print('x_train: ', x_train.dtype, x_train.shape)\n",
    "print('y_train: ', y_train.dtype, y_train.shape)\n",
    "print('q_train: ', q_train.dtype, q_train.shape)\n",
    "print('q_train_map: ', len(q_train_map))\n",
    "print('q_train_map_nonzero: ', len(q_train_map_nonzero))\n",
    "\n",
    "x_val, y_val, q_val, q_val_map, q_val_map_nonzero = get_data(data_dir / 'vali.txt')\n",
    "print('\\nValidation Set:')\n",
    "print('x_val: ', x_val.dtype, x_val.shape)\n",
    "print('y_val: ', y_val.dtype, y_val.shape)\n",
    "print('q_val: ', q_val.dtype, q_val.shape)\n",
    "print('q_val_map: ', len(q_val_map))\n",
    "print('q_val_map_nonzero: ', len(q_val_map_nonzero))\n",
    "\n",
    "x_test, y_test, q_test, q_test_map, q_test_map_nonzero = get_data(data_dir / 'test.txt')\n",
    "print('\\nTest Set:')\n",
    "print('x_test: ', x_test.dtype, x_test.shape)\n",
    "print('y_test: ', y_test.dtype, y_test.shape)\n",
    "print('q_test: ', q_test.dtype, q_test.shape)\n",
    "print('q_test_map: ', len(q_test_map))\n",
    "print('q_test_map_nonzero: ', len(q_test_map_nonzero))"
   ]
  },
  {
   "cell_type": "markdown",
   "metadata": {},
   "source": [
    "## Ranking quality measure\n",
    "\n",
    "We will use [normalised discounted cumulative gain](https://en.wikipedia.org/wiki/Discounted_cumulative_gain) (NDCG) as a measure of ranking quality.\n",
    "\n",
    "This measure is based upon the discounted cumulative gain (DCG) at top-$k$ which is defined as:\n",
    "\n",
    "$$\n",
    "\\text{DCG}_{k} = \\sum_{i=1}^{k} \\frac{2^{R_{i}} - 1}{\\log_{2}(i+1)}\n",
    "$$\n",
    "\n",
    "Where $k$ is the top $k$ ranked elements and $R_i$ is the relevance score at position $i$. (Please note that in some other texts $2^{R_{i}} - 1$ is sometimes replaced with just $R_{i}$).\n",
    "\n",
    "Then the ideal discounted cumulative gain (IDCG) is the DCG computed from a perfect ranking based on the true relevance scores $R_i$.\n",
    "\n",
    "We can use both to compute the NDCG as:\n",
    "\n",
    "$$\n",
    "\\text{NDCG}_{k} = \\frac{\\text{DCG}_{k}}{\\text{IDCG}_{k}}\n",
    "$$"
   ]
  },
  {
   "cell_type": "code",
   "execution_count": 3,
   "metadata": {},
   "outputs": [],
   "source": [
    "def dcg(rels: np.ndarray, topk: int):\n",
    "    weighting = np.log2(np.arange(1, topk+1) + 1)\n",
    "    weighted_rels = (2**rels[:topk] - 1) / weighting\n",
    "    return weighted_rels.sum()\n",
    "\n",
    "\n",
    "def idcg(rels: np.ndarray, topk: int):\n",
    "    ideal_rels = np.sort(rels)[::-1]\n",
    "    return dcg(ideal_rels, topk=topk)\n",
    "\n",
    "\n",
    "def ndcg(rels: np.ndarray, topk: int):\n",
    "    topk = min(topk, rels.shape[0])\n",
    "    d = dcg(rels, topk=topk)\n",
    "    i = idcg(rels, topk=topk)\n",
    "    if i == 0:\n",
    "        return 1.  # No ideal ranking defined\n",
    "    return d / i\n",
    "\n",
    "\n",
    "# Test\n",
    "assert np.isclose(dcg(np.array([1, 0]), topk=2), 1.)\n",
    "assert np.isclose(dcg(np.array([0, 0, 1]), topk=2), 0.)\n",
    "assert np.isclose(dcg(np.array([0, 1]), topk=2), 1/1.585, atol=1e-3)\n",
    "assert np.isclose(idcg(np.array([0, 1]), topk=2), 1.)\n",
    "assert np.isclose(\n",
    "    idcg(np.array([0, 1, 0, 2, 1]), topk=4), \n",
    "    dcg(np.array([2, 1, 1, 0, 0]), topk=4))\n",
    "assert np.isclose(ndcg(np.array([1, 0]), topk=2), 1.0)\n",
    "assert np.isclose(ndcg(np.array([0, 1]), topk=2), 1/1.585, atol=1e-3)\n",
    "docs_test_rels_all = np.array([3, 3, 3, 2, 2, 2, 1, 0])\n",
    "docs_test_rank = np.array([1, 3, 0, 7, 6, 5, 2, 4])\n",
    "docs_test_rels_rank = docs_test_rels_all[docs_test_rank]\n",
    "assert np.isclose(dcg(docs_test_rels_rank, topk=6), 13.8481, atol=1e-3)\n",
    "assert np.isclose(idcg(docs_test_rels_rank, topk=6), 18.437, atol=1e-3)\n",
    "assert np.isclose(ndcg(docs_test_rels_rank, topk=6), 0.751, atol=1e-3)\n",
    "assert np.isclose(ndcg(docs_test_rels_all, topk=6), 1.0, atol=1e-3)"
   ]
  },
  {
   "cell_type": "code",
   "execution_count": 4,
   "metadata": {},
   "outputs": [],
   "source": [
    "def evalute_scores(\n",
    "        scores: np.ndarray,\n",
    "        q_relevances: np.ndarray,\n",
    "        topk: int):\n",
    "    scores_argsort = np.argsort(scores, axis=0)[::-1]\n",
    "    q_relevances_sort_by_score = q_relevances[scores_argsort]\n",
    "    ndcg_scores = ndcg(q_relevances_sort_by_score, topk=topk)\n",
    "    return ndcg_scores\n",
    "\n",
    "\n",
    "ndcg_test = evalute_scores(\n",
    "    scores=np.asarray([1., 0.]),\n",
    "    q_relevances=np.asarray([1., 0.]),\n",
    "    topk=2)\n",
    "assert np.isclose(ndcg_test, 1.0)\n",
    "ndcg_test = evalute_scores(\n",
    "    scores=np.asarray([1., 0.]),\n",
    "    q_relevances=np.asarray([0., 1.]),\n",
    "    topk=2)\n",
    "assert np.isclose(ndcg_test, 1/1.585, atol=1e-3)\n",
    "ndcg_test = evalute_scores(\n",
    "    scores=np.asarray([2., 1., 0.]),\n",
    "    q_relevances=np.asarray([0., 0., 1.]),\n",
    "    topk=2)\n",
    "assert np.isclose(ndcg_test, 0.0)"
   ]
  },
  {
   "cell_type": "code",
   "execution_count": 5,
   "metadata": {},
   "outputs": [],
   "source": [
    "def evaluate_model(\n",
    "        q_map: Dict[int, np.ndarray],\n",
    "        all_features: np.ndarray,\n",
    "        all_relevances: np.ndarray,\n",
    "        model: torch.nn.Module,\n",
    "        topk: int):\n",
    "    ndcg_sum = 0.\n",
    "    count = 0.\n",
    "    for qid, _ in q_map.items():\n",
    "        # Get input\n",
    "        idxs = q_map[qid]\n",
    "        q_relevances = all_relevances[idxs]\n",
    "        q_features = torch.from_numpy(all_features[idxs, :])\n",
    "        # Score\n",
    "        with torch.no_grad():\n",
    "            scores = model(q_features).squeeze()\n",
    "        ndcg_scores = evalute_scores(\n",
    "            scores=np.asarray(scores),\n",
    "            q_relevances=q_relevances,\n",
    "            topk=topk)\n",
    "        ndcg_sum += ndcg_scores\n",
    "        count += 1\n",
    "    return ndcg_sum / count\n",
    "\n",
    "\n",
    "ndcg_test_all = evaluate_model(\n",
    "    q_map=q_test_map_nonzero,\n",
    "    all_features=x_test,\n",
    "    all_relevances=y_test,\n",
    "    model=nn.Linear(46, 1),\n",
    "    topk=5)\n",
    "assert 0 <= ndcg_test_all <= 1"
   ]
  },
  {
   "cell_type": "markdown",
   "metadata": {},
   "source": [
    "## Ranking model\n",
    "\n",
    "### RankNet\n",
    "\n",
    "RankNet is a pairwise model. For every ordered pair of documents $[U_i, U_j]$ passed as input into RankNet it will output the probability $P_{ij} = P(U_i > U_j)$ that $U_i$ is more relevant than $U_j$. \n",
    "\n",
    "RankNet outputs the probability by first mapping input feature vectors of the documents $U_k$ $\\mathbf{x_k}$ to a number $s_k = f_{\\theta}(\\mathbf{x_k})$ where $f_{\\theta}$ is a function parameterized by $\\theta$. It then maps the difference between these scores $s_i - s_j$ to a value between $0$ and $1$ with the help of the logistic sigmoid function.\n",
    "\n",
    "$$\n",
    "P_{ij} = P(U_i > U_j) = \\frac{1}{1 + \\exp(s_j - s_i)}\n",
    "$$\n",
    "\n",
    "\n",
    "\n",
    "#### Training RankNet\n",
    "\n",
    "RankNet learns $P_{ij}$ by training on every pair of documents $U_i > U_j$ where $U_i$ is more relevant than $U_j$. In this case the target probability should be $1 = P_{ij}$ and the negative log-likelihood (cross entropy) can be used as a loss function:\n",
    "\n",
    "$$\n",
    "\\mathcal{L}_{i,j} = - \\log P_{i,j} = \\log(1 + \\exp(s_j - s_i))\n",
    "$$\n",
    "\n",
    "Where the total loss is defined as the sum $\\mathcal{L} = \\sum_{(i,j) \\in D} \\mathcal{L}_{i,j}$.\n",
    "\n",
    "We can write out the gradients of this loss $\\mathcal{L}$ with respect to the parameters $\\theta$ as follows:\n",
    "\n",
    "$$\n",
    "\\begin{align}\n",
    "\\frac{\\partial \\mathcal{L}_{i,j}}{\\partial \\theta} &= \\frac{\\partial \\mathcal{L}_{i,j}}{\\partial s_i}  \\frac{\\partial s_i}{\\partial \\theta} + \\frac{\\partial \\mathcal{L}_{i,j}}{\\partial s_j}  \\frac{\\partial s_j}{\\partial \\theta} \\\\\n",
    "&= \\frac{-\\exp(s_j - s_i)}{1 + \\exp(s_j - s_i)}  \\frac{\\partial s_i}{\\partial \\theta} + \\frac{\\exp(s_j - s_i)}{1 + \\exp(s_j - s_i)}  \\frac{\\partial s_j}{\\partial \\theta} \\\\\n",
    "&= \\frac{-\\exp(s_j - s_i)}{1 + \\exp(s_j - s_i)} \\left( \\frac{\\partial s_i}{\\partial \\theta} - \\frac{\\partial s_j}{\\partial \\theta} \\right) \\\\\n",
    "&= -\\frac{1}{1 + \\exp(s_i - s_j)} \\left( \\frac{\\partial s_i}{\\partial \\theta} - \\frac{\\partial s_j}{\\partial \\theta} \\right) \\\\\n",
    "&= \\lambda_{i,j} \\left( \\frac{\\partial s_i}{\\partial \\theta} - \\frac{\\partial s_j}{\\partial \\theta} \\right) \\\\\n",
    "\\end{align}\n",
    "$$\n",
    "\n",
    "With $ \\lambda_{i,j} = -1 / (1 + \\exp(s_i - s_j))$ a weighting factor that determines how much to update parameters $\\theta$ during a gradient descent step.\n",
    "\n",
    "The total update for the loss then becomes:\n",
    "\n",
    "$$\n",
    "\\frac{\\partial \\mathcal{L}}{\\partial \\theta} = \\sum_{(i,j) \\in D} \\frac{\\partial \\mathcal{L}_{i,j}}{\\partial \\theta} \n",
    "= \\sum_{(i,j) \\in D} \\lambda_{i,j} \\left( \\frac{\\partial s_i}{\\partial \\theta} - \\frac{\\partial s_j}{\\partial \\theta} \\right)\n",
    "= \\sum_{(i,j) \\in D} \\left(\\lambda_{i,j} \\frac{\\partial s_i}{\\partial \\theta} - \\lambda_{i,j} \\frac{\\partial s_j}{\\partial \\theta} \\right)\n",
    "$$\n",
    "\n",
    "This means we can compute a $\\lambda_k$ for each document $U_k$ by iterating over all pairs $U_i > U_j$ and accumulating $\\lambda_k$:\n",
    "\n",
    "$$\n",
    "\\lambda_k = \\sum_{(i,j) \\in D}^{\\forall k = i} \\lambda_{i, j} - \\sum_{(i,j) \\in D}^{\\forall k = j} \\lambda_{i, j}\n",
    "$$\n",
    "\n",
    "We can then update the parameters $\\theta$ from $\\lambda_k$ and the scores $s_k$ by:\n",
    "\n",
    "$$\n",
    "\\theta(t+1) = \\theta(t) - \\mu \\lambda_k \\frac{\\partial s_k}{\\partial \\theta(t)}\n",
    "$$\n",
    "\n",
    "\n",
    "### LambdaRank\n",
    "\n",
    "One major disadvantage of RankNet is that the loss is agnostic to the actual ranking of the items. The loss is the same for every pair of items regardless where in the ranking they occur with keeping their relative ordering. E.g. the loss between $i$ and $j$ is the same whether they are ranked in 3rd and 5th place or 2nd and 51st place.\n",
    "\n",
    "This can be circumvented by weighting the gradient $\\lambda_{i,j}$ for the pairwise loss, for example by NDCG:\n",
    "$$\n",
    "\\lambda_{i,j} = \\frac{-1}{1 + \\exp(s_i - s_j)} \\lvert \\Delta_{\\text{NDCG}} \\rvert\n",
    "$$\n",
    "\n",
    "Where $\\lvert \\Delta_{\\text{NDCG}} \\rvert$ is obtained by the absolute change in the NDCG score by swapping the rank positions of $i$ and $j$.\n",
    "\n",
    "This could also be rewritten as:\n",
    "\n",
    "$$\n",
    "\\lambda_{i,j} = - \\left( \\frac{1}{1 + \\exp(s_i - s_j)} \\right) \\left| \\left( 2^{R_i} - 2^{R_j} \\right) \\left( \\frac{1}{\\log_2(1+i)} - \\frac{1}{\\log_2(1+j)} \\right) \\frac{1}{\\text{IDCG}_k} \\right|\n",
    "$$"
   ]
  },
  {
   "cell_type": "code",
   "execution_count": 6,
   "metadata": {},
   "outputs": [],
   "source": [
    "def ndcg_delta(q_idcg, ri, rj, i_sort, j_sort):\n",
    "    rank_power_diff = 2**ri - 2**rj\n",
    "    # Plus 2 because of zero-based indexing\n",
    "    weight_diff = (1. / np.log2(2+i_sort)) - (1. / np.log2(2+j_sort))\n",
    "    return abs(rank_power_diff * weight_diff * (1./ q_idcg))\n",
    "\n",
    "\n",
    "assert np.isclose(\n",
    "    ndcg_delta(1., ri=1, rj=0, i_sort=0, j_sort=1),\n",
    "    abs(ndcg(np.array([1, 0]), 2) - ndcg(np.array([0, 1]), 2)))\n",
    "assert np.isclose(\n",
    "    ndcg_delta(1., ri=1, rj=0, i_sort=1, j_sort=0),\n",
    "    abs(ndcg(np.array([0, 1]), 2) - ndcg(np.array([1, 0]), 2)))\n",
    "assert np.isclose(\n",
    "    ndcg_delta(idcg(np.array([1, 2, 0, 2]), 3), ri=2, rj=0, i_sort=1, j_sort=2),\n",
    "    abs(ndcg(np.array([1, 2, 0, 2]), 3) - ndcg(np.array([1, 0, 2, 2]), 3)))"
   ]
  },
  {
   "cell_type": "code",
   "execution_count": 7,
   "metadata": {},
   "outputs": [
    {
     "data": {
      "image/png": "[encoded data removed]",
      "text/plain": [
       "<Figure size 432x288 with 1 Axes>"
      ]
     },
     "metadata": {
      "needs_background": "light"
     },
     "output_type": "display_data"
    }
   ],
   "source": [
    "def lambda_basic(si, sj):\n",
    "    return -1. / (1 + np.exp(si - sj))\n",
    "\n",
    "\n",
    "plt.figure()\n",
    "sis = np.linspace(-10, 10, 100)\n",
    "plt.plot(sis, lambda_basic(sis, 0))\n",
    "plt.xlabel('$s_i$')\n",
    "plt.ylabel('$\\lambda$')\n",
    "plt.title('$\\lambda$ computed for different $s_i$ with $s_j = 0$')\n",
    "plt.show()"
   ]
  },
  {
   "cell_type": "markdown",
   "metadata": {},
   "source": [
    "If $s_i$ is much larger than $s_j$ the score $\\lambda$ becomes $0$, which is what we expect when $U_i > U_j$.\n",
    "\n",
    "If $s_i$ is much smaller than $s_j$ the score $\\lambda$ goes to $-1$."
   ]
  },
  {
   "cell_type": "code",
   "execution_count": 8,
   "metadata": {},
   "outputs": [],
   "source": [
    "def lambda_ndcg(q_idcg, si, sj, ri, rj, i_sort, j_sort):\n",
    "    score_direction = lambda_basic(si, sj)\n",
    "    ndcg_d = ndcg_delta(q_idcg, ri, rj, i_sort, j_sort)\n",
    "    lmbd = score_direction * ndcg_d\n",
    "    return lmbd\n",
    "\n",
    "\n",
    "lmbd_good = lambda_ndcg(1, si=1., sj=0., ri=1, rj=0, i_sort=0, j_sort=1)\n",
    "assert lmbd_good < 0.\n",
    "lmbd_bad = lambda_ndcg(1, si=0., sj=1., ri=1, rj=0, i_sort=1, j_sort=0)\n",
    "assert lmbd_bad < 0.\n",
    "lmbd_neutral = lambda_ndcg(1, si=-1, sj=1, ri=0, rj=0, i_sort=1, j_sort=0)\n",
    "assert lmbd_neutral == 0."
   ]
  },
  {
   "cell_type": "code",
   "execution_count": 9,
   "metadata": {},
   "outputs": [
    {
     "data": {
      "image/png": "[encoded data removed]",
      "text/plain": [
       "<Figure size 432x288 with 1 Axes>"
      ]
     },
     "metadata": {
      "needs_background": "light"
     },
     "output_type": "display_data"
    }
   ],
   "source": [
    "def plot_lambda():\n",
    "    plt.figure()\n",
    "    sis = np.linspace(-10, 10, 100)\n",
    "    lmbds = [\n",
    "        lambda_ndcg(\n",
    "            1., si, 0, 1, 0, int(si>0), int(si<0)) for si in sis]\n",
    "    plt.plot(sis, lmbds)\n",
    "    plt.xlabel('$s_i$')\n",
    "    plt.ylabel('$\\lambda(NDCG)$')\n",
    "    plt.title('$\\lambda(NDCG)$ computed for different $s_i$ with $s_j = 0$')\n",
    "    plt.show\n",
    "\n",
    "plot_lambda()"
   ]
  },
  {
   "cell_type": "code",
   "execution_count": 10,
   "metadata": {},
   "outputs": [],
   "source": [
    "def compute_lambdas(\n",
    "        scores: np.ndarray,\n",
    "        q_relevances: np.ndarray,\n",
    "        topk: int):\n",
    "    q_idcg = idcg(q_relevances, topk=topk)\n",
    "    scores_argsort = np.argsort(scores, axis=0)[::-1]\n",
    "    scores_sorted = scores[scores_argsort]\n",
    "    assert all(scores_sorted[i] >= scores_sorted[i+1] for i in range(len(scores_sorted)-1))\n",
    "    q_relevances_sort_by_score = q_relevances[scores_argsort]\n",
    "    # Lambda follows same index as scores\n",
    "    lambdas = np.zeros_like(scores)\n",
    "    for i in range(scores_sorted.shape[0]):\n",
    "        i_lmbd_idx = scores_argsort[i]\n",
    "        assert scores[i_lmbd_idx] == scores_sorted[i]\n",
    "        assert q_relevances[i_lmbd_idx] == q_relevances_sort_by_score[i]\n",
    "        i_rel = q_relevances_sort_by_score[i]\n",
    "        for j in range(scores_sorted.shape[0]):\n",
    "            j_lmbd_idx = scores_argsort[j]\n",
    "            j_rel = q_relevances_sort_by_score[j]\n",
    "            if i_rel > j_rel:\n",
    "                lmbd = lambda_ndcg(\n",
    "                    q_idcg, \n",
    "                    scores_sorted[i],  scores_sorted[j], \n",
    "                    i_rel, j_rel, \n",
    "                    i, j)\n",
    "                lambdas[i_lmbd_idx] += lmbd\n",
    "                lambdas[j_lmbd_idx] -= lmbd\n",
    "    return lambdas\n",
    "\n",
    "\n",
    "assert np.allclose(\n",
    "    compute_lambdas(np.array([1e9, -1e9]), np.array([1, 0]), 2),\n",
    "    [0., 0.])\n",
    "assert np.allclose(\n",
    "    compute_lambdas(np.array([1e9, -1e9]), np.array([0, 1]), 2),\n",
    "    [ndcg_delta(1., ri=1, rj=0, i_sort=0, j_sort=1), \n",
    "     -ndcg_delta(1., ri=1, rj=0, i_sort=0, j_sort=1)])\n",
    "assert np.allclose(\n",
    "    compute_lambdas(np.array([-1e9, 1e9]), np.array([1, 0]), 2),\n",
    "    [-ndcg_delta(1., ri=1, rj=0, i_sort=0, j_sort=1), \n",
    "     ndcg_delta(1., ri=1, rj=0, i_sort=0, j_sort=1)])"
   ]
  },
  {
   "cell_type": "code",
   "execution_count": 11,
   "metadata": {},
   "outputs": [],
   "source": [
    "model = nn.Linear(46, 1, bias=True)\n",
    "\n",
    "optimizer = torch.optim.SGD(model.parameters(), lr=1e-3)"
   ]
  },
  {
   "cell_type": "code",
   "execution_count": 12,
   "metadata": {},
   "outputs": [
    {
     "name": "stdout",
     "output_type": "stream",
     "text": [
      "#qID=339\n",
      "epoch: 9 | batch: 338: 100%|██████████| 3390/3390 [00:27<00:00, 122.71it/s]\n"
     ]
    }
   ],
   "source": [
    "topk = 5\n",
    "n_epoch = 10\n",
    "\n",
    "q_train_ids = [k for k, _ in q_train_map_nonzero.items()]\n",
    "print(f'#qID={len(q_train_ids)}')\n",
    "total_iter = n_epoch * len(q_train_ids)\n",
    "\n",
    "lambda_abs_batches = []\n",
    "lambda_abs = []\n",
    "ndcg_train = [(0, evaluate_model(q_train_map_nonzero, x_train, y_train, model, topk))]\n",
    "ndcg_val = [(0, evaluate_model(q_val_map_nonzero, x_val, y_val, model, topk))]\n",
    "\n",
    "iter_count = 0.\n",
    "with tqdm.tqdm(total=total_iter, file=sys.stdout) as pbar:\n",
    "    for epoch in range(n_epoch):\n",
    "        qs = np.random.permutation(q_train_ids)\n",
    "        lmbd_abs_size_total = 0.\n",
    "        for batch_idx, qid in enumerate(qs):\n",
    "            q_idxs = q_train_map_nonzero[qid]\n",
    "            q_features = torch.from_numpy(x_train[q_idxs, :])\n",
    "            optimizer.zero_grad()\n",
    "            scores = model(q_features).squeeze()\n",
    "            lambdas = compute_lambdas(\n",
    "                scores=scores.detach().numpy(),\n",
    "                q_relevances=y_train[q_idxs],\n",
    "                topk=topk)\n",
    "            scores.backward(torch.from_numpy(lambdas))\n",
    "            optimizer.step()\n",
    "            lmbd_abs_size = np.sum(np.absolute(lambdas)) / len(lambdas)\n",
    "            lmbd_abs_size_total += lmbd_abs_size\n",
    "            iter_count += 1\n",
    "            lambda_abs_batches.append((iter_count, lmbd_abs_size))\n",
    "            pbar.set_description(f'epoch: {epoch} | batch: {batch_idx}')\n",
    "            pbar.update()\n",
    "        lambda_abs.append(\n",
    "            (iter_count, lmbd_abs_size_total / len(qs)))\n",
    "        ndcg_train.append(\n",
    "            (iter_count, evaluate_model(q_train_map_nonzero, x_train, y_train, model, topk)))\n",
    "        ndcg_val.append(\n",
    "            (iter_count, evaluate_model(q_val_map_nonzero, x_val, y_val, model, topk)))"
   ]
  },
  {
   "cell_type": "code",
   "execution_count": 13,
   "metadata": {
    "scrolled": true
   },
   "outputs": [
    {
     "data": {
      "image/png": "[encoded data removed]",
      "text/plain": [
       "<Figure size 504x288 with 2 Axes>"
      ]
     },
     "metadata": {
      "needs_background": "light"
     },
     "output_type": "display_data"
    }
   ],
   "source": [
    "fig, ax1 = plt.subplots(1, 1, figsize=(7, 4))\n",
    "# plt.plot(*zip(*ndcg_batches), 'b.', alpha=0.1, label='NDCG batch')\n",
    "ax1.plot(*zip(*lambda_abs_batches), 'b.', alpha=0.1, label='$|\\lambda|$')\n",
    "ax1.plot(*zip(*lambda_abs), 'k-', label='$avg(|\\lambda|)$')\n",
    "ax2 = ax1.twinx() \n",
    "ax2.plot(*zip(*ndcg_train), 'g-', label='NDCG train')\n",
    "ax2.plot(*zip(*ndcg_val), 'r-', label='NDCG val')\n",
    "ax1.legend(loc='upper left')\n",
    "ax2.legend(loc='upper right')\n",
    "plt.show()"
   ]
  },
  {
   "cell_type": "code",
   "execution_count": 14,
   "metadata": {},
   "outputs": [
    {
     "name": "stdout",
     "output_type": "stream",
     "text": [
      "NDCG on relevant test data:  0.6751203941906415\n",
      "NDCG on all test data:  0.7813310345513935\n"
     ]
    }
   ],
   "source": [
    "ndcg_test = evaluate_model(q_test_map_nonzero, x_test, y_test, model, 6)\n",
    "print('NDCG on relevant test data: ', ndcg_test)\n",
    "\n",
    "ndcg_test = evaluate_model(q_test_map, x_test, y_test, model, 6)\n",
    "print('NDCG on all test data: ', ndcg_test)"
   ]
  }
 ],
 "metadata": {
  "kernelspec": {
   "display_name": "Python 3",
   "language": "python",
   "name": "python3"
  },
  "language_info": {
   "codemirror_mode": {
    "name": "ipython",
    "version": 3
   },
   "file_extension": ".py",
   "mimetype": "text/x-python",
   "name": "python",
   "nbconvert_exporter": "python",
   "pygments_lexer": "ipython3",
   "version": "3.7.3"
  }
 },
 "nbformat": 4,
 "nbformat_minor": 2
}
