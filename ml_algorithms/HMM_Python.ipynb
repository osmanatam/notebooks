{
 "cells": [
  {
   "cell_type": "markdown",
   "metadata": {
    "colab_type": "text",
    "id": "HCjoJqBCcI_d"
   },
   "source": [
    "# Hidden Markov Model (HMM)\n",
    "\n",
    "Sources:\n",
    "* [Hidden Markov Models - Speech and Language Processing. Daniel Jurafsky & James H. Martin](https://web.stanford.edu/~jurafsky/slp3/A.pdf)\n",
    "* [A tutorial on hidden Markov models and selected applications in speech recognition - Rabiner](https://www.ece.ucsb.edu/Faculty/Rabiner/ece259/Reprints/tutorial%20on%20hmm%20and%20applications.pdf)\n",
    "* [The Application of Hidden Markov Models in Speech Recognition](https://mi.eng.cam.ac.uk/~mjfg/mjfg_NOW.pdf)\n"
   ]
  },
  {
   "cell_type": "code",
   "execution_count": 1,
   "metadata": {
    "colab": {},
    "colab_type": "code",
    "id": "62NnimJIZVmN"
   },
   "outputs": [],
   "source": [
    "%matplotlib inline\n",
    "\n",
    "import numpy as np\n",
    "import matplotlib.pyplot as plt\n",
    "import seaborn as sns\n",
    "import pandas as pd\n",
    "\n",
    "from IPython.display import display"
   ]
  },
  {
   "cell_type": "code",
   "execution_count": 2,
   "metadata": {
    "colab": {},
    "colab_type": "code",
    "id": "3e82BWu7ZkQ9"
   },
   "outputs": [],
   "source": [
    "n_hidden_states = 2\n",
    "n_observation_states = 3\n",
    "\n",
    "p_init = np.array([0.8, 0.2])\n",
    "\n",
    "p_transition = np.array([\n",
    "    [0.6, 0.4],\n",
    "    [0.5, 0.5]])\n",
    "\n",
    "p_emission = np.array([\n",
    "    [0.2, 0.5],\n",
    "    [0.4, 0.4],\n",
    "    [0.4, 0.1]])\n",
    "\n",
    "\n",
    "\n",
    "hidden_state_names = ['Hot', 'Cold']\n",
    "\n",
    "observation_names = ['1', '2', '3']\n",
    "\n",
    "hidden_state_enc = np.eye(n_hidden_states)  # One-hot encoding of hidden states\n",
    "observation_state_enc = np.eye(n_observation_states)  # One-hot encoding of observed states"
   ]
  },
  {
   "cell_type": "code",
   "execution_count": 3,
   "metadata": {
    "colab": {
     "base_uri": "https://localhost:8080/",
     "height": 420
    },
    "colab_type": "code",
    "executionInfo": {
     "elapsed": 396,
     "status": "ok",
     "timestamp": 1561134006833,
     "user": {
      "displayName": "Peter Roelants",
      "photoUrl": "https://lh4.googleusercontent.com/-hXuqPud6GGw/AAAAAAAAAAI/AAAAAAAA09w/X3dT8zAPG5Q/s64/photo.jpg",
      "userId": "02774599156841446758"
     },
     "user_tz": -60
    },
    "id": "pmjcF8UnZrG2",
    "outputId": "9cff3b3b-2e26-48b7-ad2f-df722a53c416"
   },
   "outputs": [
    {
     "name": "stdout",
     "output_type": "stream",
     "text": [
      "Inital state probability:\n"
     ]
    },
    {
     "data": {
      "text/html": [
       "<div>\n",
       "<style scoped>\n",
       "    .dataframe tbody tr th:only-of-type {\n",
       "        vertical-align: middle;\n",
       "    }\n",
       "\n",
       "    .dataframe tbody tr th {\n",
       "        vertical-align: top;\n",
       "    }\n",
       "\n",
       "    .dataframe thead th {\n",
       "        text-align: right;\n",
       "    }\n",
       "</style>\n",
       "<table border=\"1\" class=\"dataframe\">\n",
       "  <thead>\n",
       "    <tr style=\"text-align: right;\">\n",
       "      <th></th>\n",
       "      <th>Prob</th>\n",
       "    </tr>\n",
       "  </thead>\n",
       "  <tbody>\n",
       "    <tr>\n",
       "      <th>P(Hot)</th>\n",
       "      <td>0.8</td>\n",
       "    </tr>\n",
       "    <tr>\n",
       "      <th>P(Cold)</th>\n",
       "      <td>0.2</td>\n",
       "    </tr>\n",
       "  </tbody>\n",
       "</table>\n",
       "</div>"
      ],
      "text/plain": [
       "         Prob\n",
       "P(Hot)    0.8\n",
       "P(Cold)   0.2"
      ]
     },
     "metadata": {},
     "output_type": "display_data"
    },
    {
     "name": "stdout",
     "output_type": "stream",
     "text": [
      "\n",
      "Transition Probability Matrix:\n"
     ]
    },
    {
     "data": {
      "text/html": [
       "<div>\n",
       "<style scoped>\n",
       "    .dataframe tbody tr th:only-of-type {\n",
       "        vertical-align: middle;\n",
       "    }\n",
       "\n",
       "    .dataframe tbody tr th {\n",
       "        vertical-align: top;\n",
       "    }\n",
       "\n",
       "    .dataframe thead th {\n",
       "        text-align: right;\n",
       "    }\n",
       "</style>\n",
       "<table border=\"1\" class=\"dataframe\">\n",
       "  <thead>\n",
       "    <tr style=\"text-align: right;\">\n",
       "      <th></th>\n",
       "      <th>P(Hot|*)</th>\n",
       "      <th>P(Cold|*)</th>\n",
       "    </tr>\n",
       "  </thead>\n",
       "  <tbody>\n",
       "    <tr>\n",
       "      <th>P(*|Hot)</th>\n",
       "      <td>0.6</td>\n",
       "      <td>0.4</td>\n",
       "    </tr>\n",
       "    <tr>\n",
       "      <th>P(*|Cold)</th>\n",
       "      <td>0.5</td>\n",
       "      <td>0.5</td>\n",
       "    </tr>\n",
       "  </tbody>\n",
       "</table>\n",
       "</div>"
      ],
      "text/plain": [
       "           P(Hot|*)  P(Cold|*)\n",
       "P(*|Hot)        0.6        0.4\n",
       "P(*|Cold)       0.5        0.5"
      ]
     },
     "metadata": {},
     "output_type": "display_data"
    },
    {
     "name": "stdout",
     "output_type": "stream",
     "text": [
      "\n",
      "Emission Probability Matrix:\n"
     ]
    },
    {
     "data": {
      "text/html": [
       "<div>\n",
       "<style scoped>\n",
       "    .dataframe tbody tr th:only-of-type {\n",
       "        vertical-align: middle;\n",
       "    }\n",
       "\n",
       "    .dataframe tbody tr th {\n",
       "        vertical-align: top;\n",
       "    }\n",
       "\n",
       "    .dataframe thead th {\n",
       "        text-align: right;\n",
       "    }\n",
       "</style>\n",
       "<table border=\"1\" class=\"dataframe\">\n",
       "  <thead>\n",
       "    <tr style=\"text-align: right;\">\n",
       "      <th></th>\n",
       "      <th>P(*|Hot)</th>\n",
       "      <th>P(*|Cold)</th>\n",
       "    </tr>\n",
       "  </thead>\n",
       "  <tbody>\n",
       "    <tr>\n",
       "      <th>P(1|*)</th>\n",
       "      <td>0.2</td>\n",
       "      <td>0.5</td>\n",
       "    </tr>\n",
       "    <tr>\n",
       "      <th>P(2|*)</th>\n",
       "      <td>0.4</td>\n",
       "      <td>0.4</td>\n",
       "    </tr>\n",
       "    <tr>\n",
       "      <th>P(3|*)</th>\n",
       "      <td>0.4</td>\n",
       "      <td>0.1</td>\n",
       "    </tr>\n",
       "  </tbody>\n",
       "</table>\n",
       "</div>"
      ],
      "text/plain": [
       "        P(*|Hot)  P(*|Cold)\n",
       "P(1|*)       0.2        0.5\n",
       "P(2|*)       0.4        0.4\n",
       "P(3|*)       0.4        0.1"
      ]
     },
     "metadata": {},
     "output_type": "display_data"
    }
   ],
   "source": [
    "print('Inital state probability:')\n",
    "display(pd.DataFrame(p_init, index=[f'P({s})' for s in hidden_state_names], columns=[\"Prob\"]))\n",
    "\n",
    "print('\\nTransition Probability Matrix:')\n",
    "display(pd.DataFrame(p_transition, index=[f'P(*|{s})' for s in hidden_state_names], columns=[f'P({s}|*)' for s in hidden_state_names]))\n",
    "\n",
    "\n",
    "print('\\nEmission Probability Matrix:')\n",
    "display(pd.DataFrame(p_emission, index=[f'P({o}|*)' for o in observation_names], columns=[f'P(*|{s})' for s in hidden_state_names]))\n"
   ]
  },
  {
   "cell_type": "markdown",
   "metadata": {
    "colab_type": "text",
    "id": "SjD9qVCu7e-o"
   },
   "source": [
    "## Sampling from HMM"
   ]
  },
  {
   "cell_type": "code",
   "execution_count": 4,
   "metadata": {
    "colab": {
     "base_uri": "https://localhost:8080/",
     "height": 35
    },
    "colab_type": "code",
    "executionInfo": {
     "elapsed": 734,
     "status": "ok",
     "timestamp": 1561130396398,
     "user": {
      "displayName": "Peter Roelants",
      "photoUrl": "https://lh4.googleusercontent.com/-hXuqPud6GGw/AAAAAAAAAAI/AAAAAAAA09w/X3dT8zAPG5Q/s64/photo.jpg",
      "userId": "02774599156841446758"
     },
     "user_tz": -60
    },
    "id": "r7QWptvh7hJS",
    "outputId": "d4357299-be16-4a61-b23e-f2b9a0f1cd8a"
   },
   "outputs": [
    {
     "name": "stdout",
     "output_type": "stream",
     "text": [
      "[1, 0, 0, 0, 0, 0, 0, 0, 0, 0]\n"
     ]
    }
   ],
   "source": [
    "\n",
    "sample_sequence = []\n",
    "hidden_state_prob = p_init\n",
    "\n",
    "for i in range(10):\n",
    "    #   print('i: ', i)\n",
    "    #   print('hidden_state_prob: ', hidden_state_prob.shape, hidden_state_prob)\n",
    "    state_idx = np.random.choice(n_hidden_states, p=hidden_state_prob, size=(1,))\n",
    "    sample_sequence.append(int(state_idx))\n",
    "    #   print('state_idx: ', state_idx.shape, state_idx)\n",
    "    state_enc = hidden_state_enc[state_idx]\n",
    "    #   print('state_enc: ', state_enc.shape, state_enc)\n",
    "    observation_probs = p_emission @ state_enc.T\n",
    "    #   print('observation_probs: ', observation_probs.shape, observation_probs)\n",
    "    observation_idx = np.random.choice(n_observation_states, p=observation_probs[:,0], size=(1,))\n",
    "    #   print('observation_idx: ', observation_idx.shape, observation_idx)\n",
    "    hidden_state_prob = (state_enc @ p_transition)[0,:]\n",
    "  \n",
    "print(sample_sequence)"
   ]
  },
  {
   "cell_type": "markdown",
   "metadata": {
    "colab_type": "text",
    "id": "7qJRdNPioGUC"
   },
   "source": [
    "## Likelihood Computation: The Forward Algorithm\n",
    "\n",
    "$$\n",
    "\\begin{align}\n",
    "\\alpha_{t+1} & =\\alpha_{t} \\cdot T \\cdot Q_{o} \\\\\n",
    "\\alpha_{t+1} &= \n",
    "\\begin{bmatrix}\n",
    "\\alpha_{t}(H) & \\alpha_{t}(C)\n",
    "\\end{bmatrix}\n",
    "\\cdot\n",
    "\\begin{bmatrix}\n",
    "P(H|H) & P(C|H) \\\\\n",
    "P(H|C) & P(C|C)\n",
    "\\end{bmatrix}\n",
    "\\cdot\n",
    "\\begin{bmatrix}\n",
    "P(O|H) & 0 \\\\\n",
    "0 & P(O|C)\n",
    "\\end{bmatrix}\n",
    "\\end{align}\n",
    "$$"
   ]
  },
  {
   "cell_type": "code",
   "execution_count": 5,
   "metadata": {
    "colab": {
     "base_uri": "https://localhost:8080/",
     "height": 575
    },
    "colab_type": "code",
    "executionInfo": {
     "elapsed": 478,
     "status": "ok",
     "timestamp": 1561136794065,
     "user": {
      "displayName": "Peter Roelants",
      "photoUrl": "https://lh4.googleusercontent.com/-hXuqPud6GGw/AAAAAAAAAAI/AAAAAAAA09w/X3dT8zAPG5Q/s64/photo.jpg",
      "userId": "02774599156841446758"
     },
     "user_tz": -60
    },
    "id": "3u2IJLvVoFlN",
    "outputId": "42b4e93f-5551-45a9-ec12-c73224857843"
   },
   "outputs": [
    {
     "name": "stdout",
     "output_type": "stream",
     "text": [
      "\n",
      "idx:  0 observation_idx:  2\n",
      "hidden_state_prob:  (2, 2) [[0.8 0. ]\n",
      " [0.  0.2]]\n",
      "p_obs_given_hidden:  (2,) [0.4 0.1]\n",
      "alpha:  (2,) [0.32 0.02]\n",
      "\n",
      "idx:  1 observation_idx:  0\n",
      "hidden_state_prob:  (2, 2) [[0.6 0.4]\n",
      " [0.5 0.5]]\n",
      "p_obs_given_hidden:  (2,) [0.2 0.5]\n",
      "alpha:  (2,) [0.0404 0.069 ]\n",
      "\n",
      "idx:  2 observation_idx:  2\n",
      "hidden_state_prob:  (2, 2) [[0.6 0.4]\n",
      " [0.5 0.5]]\n",
      "p_obs_given_hidden:  (2,) [0.4 0.1]\n",
      "alpha:  (2,) [0.023496 0.005066]\n",
      "final_prob:  0.028562000000000008\n"
     ]
    }
   ],
   "source": [
    "observed_seq = [2, 0 , 2]\n",
    "# observed_seq = [1, 1, 1, 1, 1]\n",
    "\n",
    "\n",
    "hidden_state_prob = np.diag(p_init)\n",
    "alpha = np.array([1, 1])\n",
    "\n",
    "\n",
    "for idx, observation_idx in enumerate(observed_seq):\n",
    "    print('\\nidx: ', idx, 'observation_idx: ', observation_idx)\n",
    "    print('hidden_state_prob: ', hidden_state_prob.shape, hidden_state_prob)\n",
    "    p_obs_given_hidden = p_emission[observation_idx, :]\n",
    "    print('p_obs_given_hidden: ', p_obs_given_hidden.shape, p_obs_given_hidden)\n",
    "    alpha = alpha @ hidden_state_prob @ np.diag(p_obs_given_hidden)\n",
    "    print('alpha: ', alpha.shape, alpha)\n",
    "    hidden_state_prob = p_transition\n",
    "\n",
    "final_prob = alpha.sum()\n",
    "print('final_prob: ', final_prob)"
   ]
  },
  {
   "cell_type": "markdown",
   "metadata": {
    "colab": {},
    "colab_type": "code",
    "id": "cLsCzA4T_yu1"
   },
   "source": [
    "## Decoding: The Viterbi Algorithm\n",
    "\n",
    "$$\n",
    "\\begin{align}\n",
    "v_{t+1} & =\\text{max(col)}( v_{t} \\cdot T \\cdot Q_{o} )\\\\\n",
    "v_{t+1} &= \\text{max(col)}(\n",
    "\\begin{bmatrix}\n",
    "v_{t}(H) & 0 \\\\\n",
    "0 & v_{t}(C)\n",
    "\\end{bmatrix}\n",
    "\\cdot\n",
    "\\begin{bmatrix}\n",
    "P(H|H) & P(C|H) \\\\\n",
    "P(H|C) & P(C|C)\n",
    "\\end{bmatrix}\n",
    "\\cdot\n",
    "\\begin{bmatrix}\n",
    "P(O|H) & 0 \\\\\n",
    "0 & P(O|C)\n",
    "\\end{bmatrix}\n",
    ")\n",
    "\\end{align}\n",
    "$$"
   ]
  },
  {
   "cell_type": "code",
   "execution_count": 6,
   "metadata": {},
   "outputs": [
    {
     "name": "stdout",
     "output_type": "stream",
     "text": [
      "\n",
      "idx:  0 observation_idx:  2\n",
      "hidden_state_prob:  (2, 2) [[0.8 0. ]\n",
      " [0.  0.2]]\n",
      "p_obs_given_hidden:  (2,) [0.4 0.1]\n",
      "viterbi:  (2, 2) [[0.32 0.  ]\n",
      " [0.   0.02]]\n",
      "backpointer:  (2,) [0 1]\n",
      "viterbi:  (2,) [0.32 0.02]\n",
      "\n",
      "idx:  1 observation_idx:  0\n",
      "hidden_state_prob:  (2, 2) [[0.6 0.4]\n",
      " [0.5 0.5]]\n",
      "p_obs_given_hidden:  (2,) [0.2 0.5]\n",
      "viterbi:  (2, 2) [[0.0384 0.064 ]\n",
      " [0.002  0.005 ]]\n",
      "backpointer:  (2,) [0 0]\n",
      "viterbi:  (2,) [0.0384 0.064 ]\n",
      "\n",
      "idx:  2 observation_idx:  2\n",
      "hidden_state_prob:  (2, 2) [[0.6 0.4]\n",
      " [0.5 0.5]]\n",
      "p_obs_given_hidden:  (2,) [0.4 0.1]\n",
      "viterbi:  (2, 2) [[0.009216 0.001536]\n",
      " [0.0128   0.0032  ]]\n",
      "backpointer:  (2,) [1 1]\n",
      "viterbi:  (2,) [0.0128 0.0032]\n",
      "decoded_seq:  [0, 1, 0]\n"
     ]
    }
   ],
   "source": [
    "observed_seq = [2, 0 , 2]\n",
    "# observed_seq = [1, 1, 1, 1, 1]\n",
    "\n",
    "\n",
    "hidden_state_prob = np.diag(p_init)\n",
    "viterbi = np.array([1, 1])\n",
    "decoded_seq = []\n",
    "\n",
    "for idx, observation_idx in enumerate(observed_seq):\n",
    "    print('\\nidx: ', idx, 'observation_idx: ', observation_idx)\n",
    "    print('hidden_state_prob: ', hidden_state_prob.shape, hidden_state_prob)\n",
    "    p_obs_given_hidden = p_emission[observation_idx, :]\n",
    "    print('p_obs_given_hidden: ', p_obs_given_hidden.shape, p_obs_given_hidden)\n",
    "    viterbi = np.diag(viterbi) @ hidden_state_prob @ np.diag(p_obs_given_hidden)\n",
    "    print('viterbi: ', viterbi.shape, viterbi)\n",
    "    backpointer = np.argmax(viterbi, axis=0)\n",
    "    print('backpointer: ', backpointer.shape, backpointer)\n",
    "    viterbi = np.diag(viterbi[backpointer])\n",
    "    print('viterbi: ', viterbi.shape, viterbi)\n",
    "    decoded_seq.append(np.argmax(viterbi))\n",
    "    hidden_state_prob = p_transition\n",
    "\n",
    "print('decoded_seq: ', decoded_seq)"
   ]
  }
 ],
 "metadata": {
  "colab": {
   "collapsed_sections": [],
   "name": "HMM_Python.ipynb",
   "provenance": [],
   "version": "0.3.2"
  },
  "kernelspec": {
   "display_name": "Python 3",
   "language": "python",
   "name": "python3"
  },
  "language_info": {
   "codemirror_mode": {
    "name": "ipython",
    "version": 3
   },
   "file_extension": ".py",
   "mimetype": "text/x-python",
   "name": "python",
   "nbconvert_exporter": "python",
   "pygments_lexer": "ipython3",
   "version": "3.7.3"
  }
 },
 "nbformat": 4,
 "nbformat_minor": 1
}
