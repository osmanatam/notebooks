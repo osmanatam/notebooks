{
 "cells": [
  {
   "cell_type": "markdown",
   "metadata": {},
   "source": [
    "# Bayesian Optimization\n",
    "\n",
    "- https://www.cs.ubc.ca/~nando/540-2013/lectures/l7.pdf\n",
    "- https://www.youtube.com/watch?v=vz3D36VXefI&index=10&list=PLE6Wd9FR--EdyJ5lbFl8UuGjecvVw66F6\n",
    "- https://www.iro.umontreal.ca/~bengioy/cifar/NCAP2014-summerschool/slides/Ryan_adams_140814_bayesopt_ncap.pdf\n",
    "- http://gpss.cc/gpmc17/slides/LancasterMasterclass_1.pdf\n",
    "- https://www.cs.ox.ac.uk/people/nando.defreitas/publications/BayesOptLoop.pdf\n",
    "- https://papers.nips.cc/paper/4522-practical-bayesian-optimization-of-machine-learning-algorithms.pdf\n",
    "- https://www.coursera.org/lecture/bayesian-methods-in-machine-learning/bayesian-optimization-iRLaF\n",
    "- https://towardsdatascience.com/shallow-understanding-on-bayesian-optimization-324b6c1f7083\n",
    "- https://github.com/fmfn/BayesianOptimization\n"
   ]
  }
 ],
 "metadata": {
  "kernelspec": {
   "display_name": "Python 3",
   "language": "python",
   "name": "python3"
  },
  "language_info": {
   "codemirror_mode": {
    "name": "ipython",
    "version": 3
   },
   "file_extension": ".py",
   "mimetype": "text/x-python",
   "name": "python",
   "nbconvert_exporter": "python",
   "pygments_lexer": "ipython3",
   "version": "3.7.3"
  }
 },
 "nbformat": 4,
 "nbformat_minor": 2
}
