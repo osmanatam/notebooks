{
 "cells": [
  {
   "cell_type": "markdown",
   "metadata": {},
   "source": [
    "# Variational inference\n",
    "\n",
    "- https://en.wikipedia.org/wiki/Variational_Bayesian_methods\n",
    "- http://www.cs.jhu.edu/~jason/tutorials/variational.html\n",
    "- http://www.robots.ox.ac.uk/~sjrob/Pubs/fox_vbtut.pdf\n",
    "- https://www.cs.princeton.edu/courses/archive/fall11/cos597C/lectures/variational-inference-i.pdf\n",
    "- https://ermongroup.github.io/cs228-notes/inference/variational/\n",
    "- https://arxiv.org/pdf/1601.00670.pdf\n",
    "- http://edwardlib.org/tutorials/variational-inference\n",
    "- http://pyro.ai/examples/svi_part_i.html\n",
    "- http://www.stat.columbia.edu/~gelman/research/unpublished/bbvb.pdf"
   ]
  }
 ],
 "metadata": {
  "kernelspec": {
   "display_name": "Python 3",
   "language": "python",
   "name": "python3"
  },
  "language_info": {
   "codemirror_mode": {
    "name": "ipython",
    "version": 3
   },
   "file_extension": ".py",
   "mimetype": "text/x-python",
   "name": "python",
   "nbconvert_exporter": "python",
   "pygments_lexer": "ipython3",
   "version": "3.7.0"
  }
 },
 "nbformat": 4,
 "nbformat_minor": 2
}
