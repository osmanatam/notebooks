{
 "cells": [
  {
   "cell_type": "markdown",
   "metadata": {},
   "source": [
    "# Wasserstein GAN"
   ]
  },
  {
   "cell_type": "markdown",
   "metadata": {},
   "source": [
    "* https://lilianweng.github.io/lil-log/2017/08/20/from-GAN-to-WGAN.html\n",
    "* https://vincentherrmann.github.io/blog/wasserstein/\n",
    "* https://www.alexirpan.com/2017/02/22/wasserstein-gan.html\n",
    "* https://medium.com/@jonathan_hui/gan-wasserstein-gan-wgan-gp-6a1a2aa1b490\n",
    "* https://mindcodec.ai/2018/09/19/an-intuitive-guide-to-optimal-transport-part-i-formulating-the-problem/\n",
    "* https://mindcodec.ai/2018/09/23/an-intuitive-guide-to-optimal-transport-part-ii-the-wasserstein-gan-made-easy/\n",
    "* https://arxiv.org/abs/1701.07875\n",
    "* https://arxiv.org/abs/1704.00028\n",
    "* https://github.com/martinarjovsky/WassersteinGAN\n",
    "* https://www.reddit.com/r/MachineLearning/comments/5qxoaz/r_170107875_wasserstein_gan/\n",
    "* https://paper.dropbox.com/doc/Wasserstein-GAN--AcUxXxcIZ3w7oqWmSn69D98vAg-GvU0p2V9ThzdwY3BbhoP7\n",
    "* https://github.com/Yangyangii/GAN-Tutorial/tree/master/Notebooks\n",
    "* https://nips.cc/Conferences/2017/Schedule?showEvent=8736"
   ]
  }
 ],
 "metadata": {
  "kernelspec": {
   "display_name": "Python 3",
   "language": "python",
   "name": "python3"
  },
  "language_info": {
   "codemirror_mode": {
    "name": "ipython",
    "version": 3
   },
   "file_extension": ".py",
   "mimetype": "text/x-python",
   "name": "python",
   "nbconvert_exporter": "python",
   "pygments_lexer": "ipython3",
   "version": "3.7.3"
  }
 },
 "nbformat": 4,
 "nbformat_minor": 2
}
