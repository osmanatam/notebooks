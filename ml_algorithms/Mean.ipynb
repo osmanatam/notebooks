{
 "cells": [
  {
   "cell_type": "markdown",
   "metadata": {},
   "source": [
    "# Interpretation of the mean"
   ]
  },
  {
   "cell_type": "markdown",
   "metadata": {},
   "source": [
    "When using the term \"mean\" here will will be referring to the artithmetic mean, which is also known as average."
   ]
  },
  {
   "cell_type": "code",
   "execution_count": 1,
   "metadata": {},
   "outputs": [],
   "source": [
    "%matplotlib inline\n",
    "\n",
    "import numpy as np\n",
    "import scipy.stats\n",
    "\n",
    "import matplotlib.pyplot as plt\n",
    "import seaborn as sns\n",
    "\n",
    "sns.set_style('darkgrid')"
   ]
  },
  {
   "cell_type": "markdown",
   "metadata": {},
   "source": [
    "Lets sample $n=5$ samples $X$ from a normal distribution $\\mathcal{N}(\\mu, \\sigma^2)$ with mean $\\mu = 3$ and standard deviation $\\sigma = 1$."
   ]
  },
  {
   "cell_type": "code",
   "execution_count": 2,
   "metadata": {},
   "outputs": [],
   "source": [
    "n = 5  # Number of samples\n",
    "# Define original distribution\n",
    "mu = 3.\n",
    "sigma = 1.\n",
    "D = scipy.stats.norm(loc=mu, scale=sigma)\n",
    "# Get random samples from distribution\n",
    "X = D.rvs(size=n, random_state=42)"
   ]
  },
  {
   "cell_type": "code",
   "execution_count": 3,
   "metadata": {},
   "outputs": [
    {
     "data": {
      "image/png": "[encoded data removed]",
      "text/plain": [
       "<Figure size 432x108 with 1 Axes>"
      ]
     },
     "metadata": {
      "needs_background": "light"
     },
     "output_type": "display_data"
    }
   ],
   "source": [
    "# Plot samples along with the distribution\n",
    "fig, ax = plt.subplots(figsize=(6,1.5))\n",
    "# Plot probability density function of distribution\n",
    "_d = np.linspace(1, 5, 100)\n",
    "ax.plot(_d, D.pdf(_d), 'grey', label='pdf')\n",
    "# Plot samples\n",
    "ax.plot(X, np.zeros_like(X), 'bo', label='$X$')\n",
    "# Plot mean\n",
    "ax.plot([mu], [0], 'ro', label='$\\mu$')\n",
    "ax.set_xlabel('$x$', fontsize=15)\n",
    "ax.set_ylabel('pdf', fontsize=15)\n",
    "ax.set_xlim(1,5)\n",
    "ax.set_ylim(-0.05,0.5)\n",
    "ax.legend(loc='center left', bbox_to_anchor=(1, 0.5))\n",
    "plt.show()"
   ]
  },
  {
   "cell_type": "markdown",
   "metadata": {},
   "source": [
    "## Computing the mean\n",
    "\n",
    "From basic statistics classes we know that the empirical [mean](https://en.wikipedia.org/wiki/Arithmetic_mean) $\\bar{X}$ of these samples is defined as:\n",
    "\n",
    "$$\n",
    "\\bar{X} = \\frac{1}{n} \\sum_{i=1}^{n} x_i = \\frac{x_1 + \\ldots + x_n}{n}\n",
    "$$\n"
   ]
  },
  {
   "cell_type": "code",
   "execution_count": 4,
   "metadata": {},
   "outputs": [
    {
     "name": "stdout",
     "output_type": "stream",
     "text": [
      "Mean of X is: 3.4590029743250867\n"
     ]
    }
   ],
   "source": [
    "print('Mean of X is: {}'.format(\n",
    "    sum(X)/n\n",
    "))"
   ]
  },
  {
   "cell_type": "markdown",
   "metadata": {},
   "source": [
    "Next we'll use $\\bar{X}$ to refer to the sample mean and $\\mu$ to refer to the population mean. The sample mean will be an approximation of the population mean.\n",
    "\n",
    "\n",
    "## Maximum likelihood estimate of the mean\n",
    "\n",
    "The mean is often interpreted as the center of a dataset. But how is this center defined?\n",
    "\n",
    "Lets assume that we don't know the underlying distribution the data $X$ is sampled from. And that the data is sampled independently. Depending on the data a valid assumption could be that the data is coming from a [normal distribution](https://en.wikipedia.org/wiki/Normal_distribution). Obviously this assumption could be false and one should always reason it's validity. However the normal distribution is typically a good choice because of the [central limit theorem](https://en.wikipedia.org/wiki/Central_limit_theorem). Variables like [signal noise](https://en.wikipedia.org/wiki/Additive_white_Gaussian_noise) will typically follow a normal distribution due to the many random processes resulting into the noise.\n",
    "\n",
    "The normal (or Gaussian) distribution $\\mathcal{N}(\\mu, \\sigma^2)$ has 2 parameters, the mean $\\mu$, and and standard deviation $\\sigma$. This means we can try to fit the distribution to the data $X$ by finding the most likely parameters that best fit the data. This is what is known as [maximum likelihood estimation (MLE)](https://en.wikipedia.org/wiki/Maximum_likelihood_estimation).\n",
    "\n",
    "\n",
    "### Likelihood\n",
    "\n",
    "The [likelihood function](https://en.wikipedia.org/wiki/Likelihood_function) $\\mathcal {L}(\\mu, \\sigma \\mid X)$ of $\\mu$ and $\\sigma$ given data $X$ can be set to the [probability density](https://en.wikipedia.org/wiki/Probability_density_function) of $X$ given parameters $\\mu, \\sigma$.\n",
    "\n",
    "The probability density for a normal distribution at point $x$ is defined as:\n",
    "$$ p(x \\mid \\mu, \\sigma) = \\frac{1}{\\sqrt{2\\pi\\sigma^2}} e^{\\textstyle \\left( -\\frac{(x - \\mu)^2}{2\\sigma^2}\\right)} $$\n",
    "\n",
    "Now since the indepencence assumption the joint density of the full dataset $X$ is $p(X \\mid \\mu, \\sigma) =  p(x_1 \\mid \\mu, \\sigma) \\cdot \\ldots \\cdot p(x_n \\mid \\mu, \\sigma)$.\n",
    "\n",
    "\n",
    "\n",
    "### Maximizing log-likelihood\n",
    "\n",
    "Now we will try to find the mean $\\hat{\\mu}$ corresponding to the maximum of the likelihood function $\\mathcal {L}(\\mu, \\sigma \\mid X) = p(X \\mid \\mu, \\sigma)$.\n",
    "\n",
    "$$\n",
    "\\hat{\\mu}, \\hat{\\sigma} = \\underset{\\mu, \\sigma}{\\text{argmax}}{\\;\\mathcal {L}(\\mu, \\sigma \\mid X)}\n",
    "$$\n",
    "\n",
    "Because the exponents are a bit difficult to work with we will transform the function with a [logarithmic function](https://en.wikipedia.org/wiki/Logarithm) which is [strictly increasing](https://en.wikipedia.org/wiki/Monotonic_function) and will thus not affect the maxima of the original likelihood function. We call the resulting function the log-likelihood:\n",
    "\n",
    "$$\n",
    "\\begin{split}\n",
    "\\log(p(X \\mid \\mu, \\sigma)) & = \\log(p(x_1 \\mid \\mu, \\sigma) ) + \\ldots + \\log(p(x_n \\mid \\mu, \\sigma)) \\\\\n",
    "& = \\log(\\frac{1}{\\sqrt{2\\pi\\sigma^2}}) -\\frac{(x_1 - \\mu)^2}{2\\sigma^2} + \\ldots + \\log(\\frac{1}{\\sqrt{2\\pi\\sigma^2}}) -\\frac{(x_n - \\mu)^2}{2\\sigma^2} \\\\\n",
    "& = -n \\log(\\sqrt{2\\pi\\sigma^2}) - \\frac{1}{2\\sigma^2} \\left[ (x_1 - \\mu)^2 + \\ldots + (x_n - \\mu)^2\\right] \\\\\n",
    "\\end{split}\n",
    "$$\n",
    "\n",
    "The [maximum](https://en.wikipedia.org/wiki/Maxima_and_minima) of this function should have a derivate equal to 0. And since the gaussian only has 1 [stationary](https://en.wikipedia.org/wiki/Stationary_point) point which is it's maximum we can find this by solving:\n",
    "\n",
    "$$\n",
    "\\frac{\\delta \\log(p(X \\mid \\mu, \\sigma))}{\\delta \\mu} = \\frac{1}{\\sigma^2}([x_1 + \\ldots + x_n] - n \\mu) = 0\n",
    "$$\n",
    "\n",
    "Which can be written as:\n",
    "\n",
    "$$\n",
    "\\hat{\\mu} = \\frac{x_1 + \\ldots + x_n}{n} = \\frac{1}{n}\\sum_{i=1}^{n} x_i = \\bar{X}\n",
    "$$\n",
    "\n",
    "Which is exactly our formula to compute the empirical mean."
   ]
  },
  {
   "cell_type": "markdown",
   "metadata": {},
   "source": [
    "## Maximum a posteriori estimation\n",
    "\n",
    "[Maximum a posteriori (MAP)](https://en.wikipedia.org/wiki/Maximum_a_posteriori_estimation) estimation is a [Bayesian](https://en.wikipedia.org/wiki/Bayesian_statistics) method to find the maximum of the [posterior distribution](https://en.wikipedia.org/wiki/Posterior_probability).\n",
    "\n",
    "The posterial distibution is defined according to [Bayes rule](https://en.wikipedia.org/wiki/Bayes%27_theorem):\n",
    "\n",
    "$$\n",
    "P(\\mu, \\sigma \\mid X) = \\frac{P(X \\mid \\mu, \\sigma) P(\\mu, \\sigma)}{P(X)}\n",
    "$$\n",
    "\n",
    "With:\n",
    "- $P(\\mu, \\sigma \\mid X)$ the [posterior distribution](https://en.wikipedia.org/wiki/Posterior_probability) of parameters $\\mu$ and $\\sigma$ after observing data $X$.\n",
    "- $P(X \\mid \\mu, \\sigma)$ the [likelihood](https://en.wikipedia.org/wiki/Likelihood_function) of observing data $X$ when the parameters are $\\mu$ and $\\sigma$.\n",
    "- $P(\\mu, \\sigma)$ is the [prior distribution](https://en.wikipedia.org/wiki/Prior_probability) on parameters $\\mu$ and $\\sigma$.\n",
    "- $P(X)$ is the [marginal probability](https://en.wikipedia.org/wiki/Marginal_distribution) of observing the data $X$ (also known as the evidence). Note that this is independent of the parameters $\\mu$ and $\\sigma$.\n",
    "\n",
    "The MAP is then defined as:\n",
    "\n",
    "$$\n",
    "\\hat{\\mu}, \\hat{\\sigma} = \\underset{\\mu, \\sigma}{\\text{argmax}}{\\;P(\\mu, \\sigma \\mid X)} = \\underset{\\mu, \\sigma}{\\text{argmax}}{\\; P(X \\mid \\mu, \\sigma) \\cdot P(\\mu, \\sigma)}\n",
    "$$\n",
    "\n",
    "The optimization will take the prior for $\\mu$ and $\\sigma$ into account. Note that the MLE is just the MAP without the prior $P(\\mu, \\sigma)$.\n",
    "\n",
    "We won't go in depth here on how to work out the maximization. [See here](https://en.wikipedia.org/wiki/Maximum_a_posteriori_estimation#Example) for an example."
   ]
  },
  {
   "cell_type": "markdown",
   "metadata": {},
   "source": [
    "## Minimizing the mean squared error\n",
    "\n",
    "Note above that the formula of the normal probability density function contains the squared difference of $x_i$ and $\\mu$, $(x_i - \\mu)^2$. This means that the mean tries to find the center of the data while minimizing the [mean squared error (MSE)](https://en.wikipedia.org/wiki/Mean_squared_error) from the center:\n",
    "\n",
    "$$\n",
    "MSE = \\frac{1}{n} \\sum_{i=1}^n (x_i - \\bar{X})^2\n",
    "$$\n",
    "\n",
    "Since the [variance](https://en.wikipedia.org/wiki/Variance) is defined as:\n",
    "\n",
    "$$\n",
    "Var(X) = \\frac{1}{n} \\sum_{i=1}^n (x_i - \\mu)^2\n",
    "$$\n",
    "\n",
    "Then the mean $\\bar{X}$ is the point that minimizes the variance between $\\bar{X}$ and all points $x_i$."
   ]
  },
  {
   "cell_type": "code",
   "execution_count": 16,
   "metadata": {},
   "outputs": [
    {
     "data": {
      "image/png": "[encoded data removed]",
      "text/plain": [
       "<Figure size 432x288 with 1 Axes>"
      ]
     },
     "metadata": {
      "needs_background": "light"
     },
     "output_type": "display_data"
    }
   ],
   "source": [
    "# Mean doesn't always make sense, for example the Cauchy\n",
    "#  distribution does not have a mean\n",
    "\n",
    "\n",
    "def gen_cauchy_avgs(n):\n",
    "    sample_sum = 0\n",
    "    sample_count = 0\n",
    "    for i in range(n):\n",
    "        sample_sum += scipy.stats.cauchy.rvs()\n",
    "        sample_count += 1\n",
    "        if (i % 10) == 0:\n",
    "            yield sample_sum / sample_count\n",
    "\n",
    "plt.plot(list(gen_cauchy_avgs(100000)))\n",
    "plt.show()\n",
    "    "
   ]
  },
  {
   "cell_type": "markdown",
   "metadata": {},
   "source": [
    "- Median: https://stats.stackexchange.com/a/197029/26888\n",
    "- Median: https://en.wikipedia.org/wiki/Laplace_distribution#Parameter_estimation\n",
    "- Mode, Median, Mean: http://www.johnmyleswhite.com/notebook/2013/03/22/modes-medians-and-means-an-unifying-perspective/\n",
    "- Expected value: https://en.wikipedia.org/wiki/Expected_value\n",
    "- Expected value: https://stats.stackexchange.com/a/30367/26888\n",
    "- Expected value: https://math.stackexchange.com/a/1355657/298410\n",
    "- Expected value: https://am207.github.io/2017/wiki/Expectations.html\n",
    "- Central limit theorem: https://en.wikipedia.org/wiki/Central_limit_theorem\n",
    "- Cauchy undefined mean: https://en.wikipedia.org/wiki/Cauchy_distribution#Explanation_of_undefined_moments\n",
    "- [Maximum Likelihood Estimate](https://d3c33hcgiwev3.cloudfront.net/_f678abd2f50f7171a76c7cb3ec03f726_MLE-for-Gaussian.pdf?Expires=1566172800&Signature=VaNIQ8q-crpcrLx48cVYRbCvWhE4MnAQxJZBLO9kZMelVL3lGdzaekChLiP6PRObdcDuBmcez0DGP8m1bHd2S7AD-qPrt0fuLp-AxnjgzZeyXQjh4Af2yX~QsZ74ikX25zy61TsLx-XpQ74qlz0wwOZ~hYUStxAGjCFfUWsDbzE_&Key-Pair-Id=APKAJLTNE6QMUY6HBC5A) (From a Coursera [course](https://www.coursera.org/learn/bayesian-methods-in-machine-learning#syllabus))"
   ]
  }
 ],
 "metadata": {
  "kernelspec": {
   "display_name": "Python 3",
   "language": "python",
   "name": "python3"
  },
  "language_info": {
   "codemirror_mode": {
    "name": "ipython",
    "version": 3
   },
   "file_extension": ".py",
   "mimetype": "text/x-python",
   "name": "python",
   "nbconvert_exporter": "python",
   "pygments_lexer": "ipython3",
   "version": "3.7.3"
  }
 },
 "nbformat": 4,
 "nbformat_minor": 2
}
