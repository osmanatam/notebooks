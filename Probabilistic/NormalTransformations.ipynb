{
 "cells": [
  {
   "cell_type": "markdown",
   "metadata": {},
   "source": [
    "# Transformations of normal distribution\n",
    "\n",
    "* \"Any continuous distribution can be turned into a normal distribution through a process called Gaussianization\"\n",
    "    - https://stats.stackexchange.com/a/137083/26888\n",
    "    - http://papers.nips.cc/paper/1856-gaussianization.pdf\n",
    "* \"a transformation of variables is actually a change of measure\"\n",
    "    - https://stats.stackexchange.com/a/294871/26888\n",
    "    - http://www.statsathome.com/2017/06/26/measure-theory-made-rediculously-simple/\n",
    "    - https://vannevar.ece.uw.edu/techsite/papers/documents/UWEETR-2006-0008.pdf\n",
    "* Affine transform of normal distribution is again a normal distribution\n",
    "* [Related distributions](https://en.wikipedia.org/wiki/Log-normal_distribution)\n",
    "    - [Log-normal](https://en.wikipedia.org/wiki/Log-normal_distribution)\n",
    "    - [Folder normal](https://en.wikipedia.org/wiki/Folded_normal_distribution) and [half-normal](https://en.wikipedia.org/wiki/Half-normal_distribution)\n",
    "    - [Chi-distribution](https://en.wikipedia.org/wiki/Chi_distribution)\n",
    "    - [chi-squared distribution](https://en.wikipedia.org/wiki/Chi-squared_distribution)\n",
    "        - Chi-square disribution can lead to gamma distribution and Beta distribution.\n",
    "    - [Levy distribution](https://en.wikipedia.org/wiki/L%C3%A9vy_distribution)\n",
    "    - [Cauchy distribution](https://en.wikipedia.org/wiki/Cauchy_distribution)\n",
    "    - [Rayleigh distribution](https://en.wikipedia.org/wiki/Rayleigh_distribution)\n",
    "    - [Student's t-distribution](https://en.wikipedia.org/wiki/Student%27s_t-distribution)\n",
    "    - [F-distribution](https://en.wikipedia.org/wiki/F-distribution)\n",
    "        - F-distribution could lead to Beta distribution\n",
    "* Approximations\n",
    "    - [Logistic distribution](https://en.wikipedia.org/wiki/Logistic_distribution) resembles the normal distribution in shape but has heavier tails. \n",
    "    \n",
    "    \n",
    "Gamma distribution !!! https://en.wikipedia.org/wiki/Gamma_distribution\n",
    "\n",
    "https://www.johndcook.com/blog/conjugate_prior_diagram/"
   ]
  }
 ],
 "metadata": {
  "kernelspec": {
   "display_name": "Python 3",
   "language": "python",
   "name": "python3"
  },
  "language_info": {
   "codemirror_mode": {
    "name": "ipython",
    "version": 3
   },
   "file_extension": ".py",
   "mimetype": "text/x-python",
   "name": "python",
   "nbconvert_exporter": "python",
   "pygments_lexer": "ipython3",
   "version": "3.7.0"
  }
 },
 "nbformat": 4,
 "nbformat_minor": 2
}
